{
  "nbformat": 4,
  "nbformat_minor": 0,
  "metadata": {
    "colab": {
      "name": "Untitled0.ipynb",
      "provenance": [],
      "collapsed_sections": [],
      "authorship_tag": "ABX9TyPUY33lIv2/gPvVkRdIlI4Z",
      "include_colab_link": true
    },
    "kernelspec": {
      "name": "python3",
      "display_name": "Python 3"
    }
  },
  "cells": [
    {
      "cell_type": "markdown",
      "metadata": {
        "id": "view-in-github",
        "colab_type": "text"
      },
      "source": [
        "<a href=\"https://colab.research.google.com/github/MuhammadYaumil1212/ML/blob/master/Latihan.ipynb\" target=\"_parent\"><img src=\"https://colab.research.google.com/assets/colab-badge.svg\" alt=\"Open In Colab\"/></a>"
      ]
    },
    {
      "cell_type": "code",
      "metadata": {
        "id": "7j_ktWMQskR5",
        "colab_type": "code",
        "outputId": "e0f8102e-2b2e-4009-d9a9-9b536b57f648",
        "colab": {
          "base_uri": "https://localhost:8080/",
          "height": 628
        }
      },
      "source": [
        "# from sklearn.tree import DecissionClassifier\n",
        "# from sklearn.preprocessing import MinMaxScaler\n",
        "\n",
        "# data = [[120000, 33], [40000000, 50], [20000, 20]]\n",
        "# scaler = MinMaxScaler()\n",
        "# scaler.fit(data)\n",
        "# print(scaler.transform(data))\n",
        "\n",
        "# from sklearn import preprocessing\n",
        "\n",
        "# data = [[120000, 33], [40000000, 50], [20000, 20]]\n",
        "# scaler = preprocessing.StandardScaler().fit(data)\n",
        "# data = scaler.transform(data)\n",
        "# print(data)\n",
        "\n",
        "# import sklearn \n",
        "# from sklearn import datasets\n",
        "# from sklearn.model_selection import train_test_split\n",
        "\n",
        "# iris = datasets.load_iris()\n",
        "\n",
        "# x = iris.data\n",
        "# y = iris.target\n",
        "\n",
        "# x_train,x_test,y_train,y_test = train_test_split(x,y, test_size=0.2)\n",
        "\n",
        "# len(x)\n",
        "\n",
        "# import sklearn\n",
        "# from sklearn import datasets\n",
        "# from sklearn.model_selection import cross_val_score\n",
        "# from sklearn import tree\n",
        "\n",
        "# iris = datasets.load_iris()\n",
        "# x = iris.data\n",
        "# y = iris.target\n",
        "\n",
        "# clf = tree.DecisionTreeClassifier()\n",
        "# scores = cross_val_score(clf,x,y, cv=5 )\n",
        "# print(scores)\n",
        "\n",
        "# from sklearn.tree import DecisionTreeClassifier\n",
        "# import pandas as pd\n",
        "# from sklearn.datasets import load_iris\n",
        "# iris = pd.read_csv('Iris.csv')\n",
        "# # iris.head()\n",
        "# #menghapus data yang tidak perlu\n",
        "# iris.drop('Id',axis=1,inplace=True)\n",
        "# #Memisahkan antara atribut dan label\n",
        "# X = iris[['SepalLengthCm', 'SepalWidthCm', 'PetalLengthCm', 'PetalWidthCm' ]]\n",
        "# y = iris['Species']\n",
        "#  # membuat model Decision Tree\n",
        "# tree_model = DecisionTreeClassifier() \n",
        "# # melakukan pelatihan model terhadap data\n",
        "# tree_model.fit(X, y)\n",
        "# #prediksi model\n",
        "#  # tree_model.predict([[SepalLength, SepalWidth, PetalLength, PetalWidth]])\n",
        "# tree_model.predict([[5.1, 3.5, 1.4, 0.2]])\n",
        "\n",
        "# import numpy as np \n",
        "# import matplotlib.pyplot as plt\n",
        "# from sklearn.linear_model import LinearRegression \n",
        "# #buat data jml kamar\n",
        "# bedrooms = np.array([1,2,3,3,4,4,2,5,6,7,7])\n",
        "# #perkiraan harga kamar\n",
        "# price = np.array([100000,200000,500000,8000000,9000000,200000,900000,8000000,4000000,30000000,200000])\n",
        "# #menampilkan scatter plot \n",
        "# %matplotlib inline\n",
        "# # plt.scatter(bedrooms, price)\n",
        "\n",
        "# bedrooms = bedrooms.reshape(-1,1)\n",
        "# linreg = LinearRegression()\n",
        "# linreg.fit(bedrooms, price)\n",
        "# plt.scatter(bedrooms, price)\n",
        "# plt.plot(bedrooms, linreg.predict(bedrooms))\n",
        "\n",
        "# import pandas as pd\n",
        "# from sklearn.model_selection import train_test_split\n",
        "# from sklearn.preprocessing import StandardScaler\n",
        "# from sklearn import linear_model\n",
        "\n",
        "# df = pd.read_csv('Social_Network_Ads.csv')\n",
        "# # df.head()\n",
        "# # df.info()\n",
        "# data = df.drop(columns=['User ID'])\n",
        "# data = pd.get_dummies(data)\n",
        "# # print(data)\n",
        "# prediksi = ['Age','EstimatedSalary','Gender_Female','Gender_Male']\n",
        "# X = data[prediksi]\n",
        "# y = data['Purchased']\n",
        "# X_train, X_test, y_train, y_test = train_test_split(X, y, test_size=0.25, random_state=42)\n",
        "# model = linear_model.LogisticRegression()\n",
        "# #latih Model\n",
        "# model.fit(X_train, y_train)\n",
        "# #Melihat Hasil Latih (Menguji Akurasi)\n",
        "# model.score(X_test, y_test)\n",
        "\n",
        "# import pandas as pd \n",
        "# import matplotlib.pyplot as plt\n",
        "# %matplotlib inline\n",
        "# import seaborn as sns\n",
        "# from sklearn.cluster import KMeans\n",
        "\n",
        "# #ubah file csv menjadi dataframe\n",
        "# df = pd.read_csv('Social_Network_Ads.csv')\n",
        "# #tampilkan 3 baris pertama\n",
        "# # df.head(3)\n",
        "# #ubah nama kolom data kategorik\n",
        "# df = df.rename(columns={'Gender': 'gender', 'Age': 'age',\n",
        "#                         'Annual Income (k$)': 'annual_income',\n",
        "#                         'Spending Score (1-100)': 'spending_score',\n",
        "#                           'User ID' : 'user_id' })\n",
        "\n",
        "# #ubah data kategorik menjadi numerik\n",
        "# df['gender'].replace(['Female','Male'], [0,1], inplace=True)\n",
        "\n",
        "# # tampilkan data yang sudah di preprocess\n",
        "# df.head(3)\n",
        "# #menghilangkan kolom customer id gender\n",
        "# X = df.drop(['user_id', 'gender'], axis=1)\n",
        "# #membuat List yang berisi inersia\n",
        "# clusters = []\n",
        "# for i in range(1,11):\n",
        "#   #membuat objek Kmeans\n",
        "#   km = KMeans(n_clusters=i).fit(X)\n",
        "\n",
        "#   clusters.append(km.inertia_)\n",
        "# #membuat plot inersia\n",
        "# fig, ax = plt.subplots(figsize=(8,4))\n",
        "# sns.lineplot(x=list(range(1,11)), y=clusters, ax=ax)\n",
        "# ax.set_title('cari Elbow')\n",
        "# ax.set_xlabel('clusters')\n",
        "# ax.set_ylabel('inertia')\n",
        "\n",
        "# km5 = KMeans(n_clusters=5).fit(X)\n",
        "# #menambahkan kolom label pada dataset\n",
        "# X['Labels'] = km5.labels_\n",
        "# #membuat plot KMeans dengan 5 klaster\n",
        "# plt.figure(figsize=(8,4))\n",
        "# sns.scatterplot(X['EstimatedSalary'], X['Purchased'], hue=X['Labels'],\n",
        "#                 palette=sns.color_palette('hls', 5))\n",
        "# plt.title('KMeans dengan 5 Cluster')\n",
        "# plt.show()\n",
        "\n",
        "\n",
        "\n",
        "\n",
        "\n",
        "\n",
        "\n",
        "\n",
        "\n"
      ],
      "execution_count": 1,
      "outputs": [
        {
          "output_type": "stream",
          "text": [
            "/usr/local/lib/python3.6/dist-packages/statsmodels/tools/_testing.py:19: FutureWarning: pandas.util.testing is deprecated. Use the functions in the public API at pandas.testing instead.\n",
            "  import pandas.util.testing as tm\n"
          ],
          "name": "stderr"
        },
        {
          "output_type": "display_data",
          "data": {
            "image/png": "[encoded data removed]",
            "text/plain": [
              "<Figure size 576x288 with 1 Axes>"
            ]
          },
          "metadata": {
            "tags": [],
            "needs_background": "light"
          }
        },
        {
          "output_type": "display_data",
          "data": {
            "image/png": "[encoded data removed]",
            "text/plain": [
              "<Figure size 576x288 with 1 Axes>"
            ]
          },
          "metadata": {
            "tags": [],
            "needs_background": "light"
          }
        }
      ]
    },
    {
      "cell_type": "code",
      "metadata": {
        "id": "L7M-m_kM5CYX",
        "colab_type": "code",
        "outputId": "e0a1e928-59b3-41dc-83de-6d2b82d73e17",
        "colab": {
          "base_uri": "https://localhost:8080/",
          "height": 124
        }
      },
      "source": [
        "from google.colab import drive\n",
        "drive.mount('/content/drive')"
      ],
      "execution_count": 0,
      "outputs": [
        {
          "output_type": "stream",
          "text": [
            "Go to this URL in a browser: https://accounts.google.com/o/oauth2/auth?client_id=947318989803-6bn6qk8qdgf4n4g3pfee6491hc0brc4i.apps.googleusercontent.com&redirect_uri=urn%3aietf%3awg%3aoauth%3a2.0%3aoob&response_type=code&scope=email%20https%3a%2f%2fwww.googleapis.com%2fauth%2fdocs.test%20https%3a%2f%2fwww.googleapis.com%2fauth%2fdrive%20https%3a%2f%2fwww.googleapis.com%2fauth%2fdrive.photos.readonly%20https%3a%2f%2fwww.googleapis.com%2fauth%2fpeopleapi.readonly\n",
            "\n",
            "Enter your authorization code:\n",
            "··········\n",
            "Mounted at /content/drive\n"
          ],
          "name": "stdout"
        }
      ]
    }
  ]
}